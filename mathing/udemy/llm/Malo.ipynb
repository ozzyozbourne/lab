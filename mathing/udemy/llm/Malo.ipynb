{
 "cells": [
  {
   "cell_type": "code",
   "execution_count": 1,
   "id": "1c468a11-bf5c-4fd5-b795-a01366251b4b",
   "metadata": {},
   "outputs": [],
   "source": [
    "import numpy as np\n",
    "import torch\n"
   ]
  },
  {
   "cell_type": "code",
   "execution_count": 5,
   "id": "d30806b8-4b65-490e-8754-1ecec290a533",
   "metadata": {},
   "outputs": [
    {
     "name": "stdout",
     "output_type": "stream",
     "text": [
      "The min value -> -3 max value -> 40\n"
     ]
    }
   ],
   "source": [
    "#create a vector in np\n",
    "v = np.array([1, 40, 2, -3])\n",
    "\n",
    "#find the min and the max of them \n",
    "minval, maxval = np.min(v), np.max(v)\n",
    "\n",
    "print(f'The min value -> {minval} max value -> {maxval}')"
   ]
  },
  {
   "cell_type": "code",
   "execution_count": null,
   "id": "17febc12-d2ff-4bf2-9264-f1db5e7fa603",
   "metadata": {},
   "outputs": [],
   "source": []
  }
 ],
 "metadata": {
  "kernelspec": {
   "display_name": "Python 3 (ipykernel)",
   "language": "python",
   "name": "python3"
  },
  "language_info": {
   "codemirror_mode": {
    "name": "ipython",
    "version": 3
   },
   "file_extension": ".py",
   "mimetype": "text/x-python",
   "name": "python",
   "nbconvert_exporter": "python",
   "pygments_lexer": "ipython3",
   "version": "3.12.11"
  }
 },
 "nbformat": 4,
 "nbformat_minor": 5
}
